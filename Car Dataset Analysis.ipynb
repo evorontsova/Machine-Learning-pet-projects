{
 "cells": [
  {
   "cell_type": "markdown",
   "metadata": {
    "slideshow": {
     "slide_type": "slide"
    }
   },
   "source": [
    "## Report \"Car optimization challenge\"\n",
    "#### author: \"Evgeniya Vorontsova\"\n",
    "#### date: \"February, 2021\"\n",
    "\n",
    "![Alt](bus.png \"\")"
   ]
  },
  {
   "cell_type": "markdown",
   "metadata": {
    "slideshow": {
     "slide_type": "slide"
    }
   },
   "source": [
    "### Goal: minimize the energy consumption\n",
    "### Find: \n",
    "#### * optimal shape of the vehicle;\n",
    "#### * the optimal size of the wheels;\n",
    "#### * the optimal combustion engine"
   ]
  },
  {
   "cell_type": "code",
   "execution_count": 13,
   "metadata": {
    "slideshow": {
     "slide_type": "skip"
    }
   },
   "outputs": [],
   "source": [
    "import pandas as pd\n",
    "import numpy as np\n",
    "from sklearn import preprocessing\n",
    "import matplotlib.pyplot as plt\n",
    "import statsmodels.api as sm\n",
    "import statsmodels.formula.api as smf"
   ]
  },
  {
   "cell_type": "markdown",
   "metadata": {
    "slideshow": {
     "slide_type": "slide"
    }
   },
   "source": [
    "#### We need to find datasets with dependency between the energy consumption (fuel) and the parameters of vehicles \n",
    "\n",
    "\n",
    "### Fuel Economy Data (US Department of Energy)\n",
    "https://www.fueleconomy.gov/feg/download.shtml   43 000 cars"
   ]
  },
  {
   "cell_type": "code",
   "execution_count": 90,
   "metadata": {
    "slideshow": {
     "slide_type": "slide"
    }
   },
   "outputs": [
    {
     "name": "stderr",
     "output_type": "stream",
     "text": [
      "C:\\Users\\JaneN\\anaconda3\\lib\\site-packages\\IPython\\core\\interactiveshell.py:3071: DtypeWarning: Columns (70,71,72,73,74,76,79) have mixed types.Specify dtype option on import or set low_memory=False.\n",
      "  has_raised = await self.run_ast_nodes(code_ast.body, cell_name,\n"
     ]
    },
    {
     "name": "stdout",
     "output_type": "stream",
     "text": [
      "<class 'pandas.core.frame.DataFrame'>\n",
      "RangeIndex: 43295 entries, 0 to 43294\n",
      "Data columns (total 83 columns):\n",
      " #   Column           Non-Null Count  Dtype  \n",
      "---  ------           --------------  -----  \n",
      " 0   barrels08        43295 non-null  float64\n",
      " 1   barrelsA08       43295 non-null  float64\n",
      " 2   charge120        43295 non-null  float64\n",
      " 3   charge240        43295 non-null  float64\n",
      " 4   city08           43295 non-null  int64  \n",
      " 5   city08U          43295 non-null  float64\n",
      " 6   cityA08          43295 non-null  int64  \n",
      " 7   cityA08U         43295 non-null  float64\n",
      " 8   cityCD           43295 non-null  float64\n",
      " 9   cityE            43295 non-null  float64\n",
      " 10  cityUF           43295 non-null  float64\n",
      " 11  co2              43295 non-null  int64  \n",
      " 12  co2A             43295 non-null  int64  \n",
      " 13  co2TailpipeAGpm  43295 non-null  float64\n",
      " 14  co2TailpipeGpm   43295 non-null  float64\n",
      " 15  comb08           43295 non-null  int64  \n",
      " 16  comb08U          43295 non-null  float64\n",
      " 17  combA08          43295 non-null  int64  \n",
      " 18  combA08U         43295 non-null  float64\n",
      " 19  combE            43295 non-null  float64\n",
      " 20  combinedCD       43295 non-null  float64\n",
      " 21  combinedUF       43295 non-null  float64\n",
      " 22  cylinders        43022 non-null  float64\n",
      " 23  displ            43024 non-null  float64\n",
      " 24  drive            42109 non-null  object \n",
      " 25  engId            43295 non-null  int64  \n",
      " 26  eng_dscr         26780 non-null  object \n",
      " 27  feScore          43295 non-null  int64  \n",
      " 28  fuelCost08       43295 non-null  int64  \n",
      " 29  fuelCostA08      43295 non-null  int64  \n",
      " 30  fuelType         43295 non-null  object \n",
      " 31  fuelType1        43295 non-null  object \n",
      " 32  ghgScore         43295 non-null  int64  \n",
      " 33  ghgScoreA        43295 non-null  int64  \n",
      " 34  highway08        43295 non-null  int64  \n",
      " 35  highway08U       43295 non-null  float64\n",
      " 36  highwayA08       43295 non-null  int64  \n",
      " 37  highwayA08U      43295 non-null  float64\n",
      " 38  highwayCD        43295 non-null  float64\n",
      " 39  highwayE         43295 non-null  float64\n",
      " 40  highwayUF        43295 non-null  float64\n",
      " 41  hlv              43295 non-null  int64  \n",
      " 42  hpv              43295 non-null  int64  \n",
      " 43  id               43295 non-null  int64  \n",
      " 44  lv2              43295 non-null  int64  \n",
      " 45  lv4              43295 non-null  int64  \n",
      " 46  make             43295 non-null  object \n",
      " 47  model            43295 non-null  object \n",
      " 48  mpgData          43285 non-null  object \n",
      " 49  phevBlended      43295 non-null  bool   \n",
      " 50  pv2              43295 non-null  int64  \n",
      " 51  pv4              43295 non-null  int64  \n",
      " 52  range            43295 non-null  int64  \n",
      " 53  rangeCity        43295 non-null  float64\n",
      " 54  rangeCityA       43295 non-null  float64\n",
      " 55  rangeHwy         43295 non-null  float64\n",
      " 56  rangeHwyA        43295 non-null  float64\n",
      " 57  trany            43284 non-null  object \n",
      " 58  UCity            43295 non-null  float64\n",
      " 59  UCityA           43295 non-null  float64\n",
      " 60  UHighway         43295 non-null  float64\n",
      " 61  UHighwayA        43295 non-null  float64\n",
      " 62  VClass           43295 non-null  object \n",
      " 63  year             43295 non-null  int64  \n",
      " 64  youSaveSpend     43295 non-null  int64  \n",
      " 65  guzzler          2550 non-null   object \n",
      " 66  trans_dscr       15044 non-null  object \n",
      " 67  tCharger         8055 non-null   object \n",
      " 68  sCharger         916 non-null    object \n",
      " 69  atvType          3959 non-null   object \n",
      " 70  fuelType2        1717 non-null   object \n",
      " 71  rangeA           1712 non-null   object \n",
      " 72  evMotor          1194 non-null   object \n",
      " 73  mfrCode          12487 non-null  object \n",
      " 74  c240Dscr         114 non-null    object \n",
      " 75  charge240b       43295 non-null  float64\n",
      " 76  c240bDscr        108 non-null    object \n",
      " 77  createdOn        43295 non-null  object \n",
      " 78  modifiedOn       43295 non-null  object \n",
      " 79  startStop        11606 non-null  object \n",
      " 80  phevCity         43295 non-null  int64  \n",
      " 81  phevHwy          43295 non-null  int64  \n",
      " 82  phevComb         43295 non-null  int64  \n",
      "dtypes: bool(1), float64(32), int64(27), object(23)\n",
      "memory usage: 27.1+ MB\n"
     ]
    }
   ],
   "source": [
    "vehicles=pd.read_csv(\"vehicles.csv\")\n",
    "vehicles.info()"
   ]
  },
  {
   "cell_type": "markdown",
   "metadata": {
    "slideshow": {
     "slide_type": "slide"
    }
   },
   "source": [
    "\n",
    "##### Drop unnecessary columns"
   ]
  },
  {
   "cell_type": "code",
   "execution_count": 40,
   "metadata": {
    "slideshow": {
     "slide_type": "skip"
    }
   },
   "outputs": [
    {
     "name": "stderr",
     "output_type": "stream",
     "text": [
      "C:\\Users\\JaneN\\anaconda3\\lib\\site-packages\\pandas\\core\\ops\\array_ops.py:253: FutureWarning: elementwise comparison failed; returning scalar instead, but in the future will perform elementwise comparison\n",
      "  res_values = method(rvalues)\n"
     ]
    }
   ],
   "source": [
    "vehicles = vehicles[['barrels08', 'cylinders', 'fuelType', 'displ', 'drive', 'make', 'model', 'trany']]\n",
    "vehicles = vehicles[vehicles['fuelType'] == 'Regular']\n",
    "vehicles = vehicles[vehicles['cylinders'] != 'NA']\n",
    "vehicles.dropna(subset=['drive', 'trany', 'cylinders'], inplace = True)"
   ]
  },
  {
   "cell_type": "code",
   "execution_count": 4,
   "metadata": {
    "slideshow": {
     "slide_type": "slide"
    }
   },
   "outputs": [
    {
     "data": {
      "text/html": [
       "<div>\n",
       "<style scoped>\n",
       "    .dataframe tbody tr th:only-of-type {\n",
       "        vertical-align: middle;\n",
       "    }\n",
       "\n",
       "    .dataframe tbody tr th {\n",
       "        vertical-align: top;\n",
       "    }\n",
       "\n",
       "    .dataframe thead th {\n",
       "        text-align: right;\n",
       "    }\n",
       "</style>\n",
       "<table border=\"1\" class=\"dataframe\">\n",
       "  <thead>\n",
       "    <tr style=\"text-align: right;\">\n",
       "      <th></th>\n",
       "      <th>barrels08</th>\n",
       "      <th>cylinders</th>\n",
       "      <th>fuelType</th>\n",
       "      <th>displ</th>\n",
       "      <th>drive</th>\n",
       "      <th>make</th>\n",
       "      <th>model</th>\n",
       "      <th>trany</th>\n",
       "    </tr>\n",
       "  </thead>\n",
       "  <tbody>\n",
       "    <tr>\n",
       "      <th>0</th>\n",
       "      <td>15.695714</td>\n",
       "      <td>4.0</td>\n",
       "      <td>Regular</td>\n",
       "      <td>2.0</td>\n",
       "      <td>Rear-Wheel Drive</td>\n",
       "      <td>Alfa Romeo</td>\n",
       "      <td>Spider Veloce 2000</td>\n",
       "      <td>Manual 5-spd</td>\n",
       "    </tr>\n",
       "    <tr>\n",
       "      <th>1</th>\n",
       "      <td>29.964545</td>\n",
       "      <td>12.0</td>\n",
       "      <td>Regular</td>\n",
       "      <td>4.9</td>\n",
       "      <td>Rear-Wheel Drive</td>\n",
       "      <td>Ferrari</td>\n",
       "      <td>Testarossa</td>\n",
       "      <td>Manual 5-spd</td>\n",
       "    </tr>\n",
       "    <tr>\n",
       "      <th>2</th>\n",
       "      <td>12.207778</td>\n",
       "      <td>4.0</td>\n",
       "      <td>Regular</td>\n",
       "      <td>2.2</td>\n",
       "      <td>Front-Wheel Drive</td>\n",
       "      <td>Dodge</td>\n",
       "      <td>Charger</td>\n",
       "      <td>Manual 5-spd</td>\n",
       "    </tr>\n",
       "    <tr>\n",
       "      <th>3</th>\n",
       "      <td>29.964545</td>\n",
       "      <td>8.0</td>\n",
       "      <td>Regular</td>\n",
       "      <td>5.2</td>\n",
       "      <td>Rear-Wheel Drive</td>\n",
       "      <td>Dodge</td>\n",
       "      <td>B150/B250 Wagon 2WD</td>\n",
       "      <td>Automatic 3-spd</td>\n",
       "    </tr>\n",
       "    <tr>\n",
       "      <th>5</th>\n",
       "      <td>14.982273</td>\n",
       "      <td>4.0</td>\n",
       "      <td>Regular</td>\n",
       "      <td>1.8</td>\n",
       "      <td>Front-Wheel Drive</td>\n",
       "      <td>Subaru</td>\n",
       "      <td>Loyale</td>\n",
       "      <td>Automatic 3-spd</td>\n",
       "    </tr>\n",
       "  </tbody>\n",
       "</table>\n",
       "</div>"
      ],
      "text/plain": [
       "   barrels08  cylinders fuelType  displ              drive        make  \\\n",
       "0  15.695714        4.0  Regular    2.0   Rear-Wheel Drive  Alfa Romeo   \n",
       "1  29.964545       12.0  Regular    4.9   Rear-Wheel Drive     Ferrari   \n",
       "2  12.207778        4.0  Regular    2.2  Front-Wheel Drive       Dodge   \n",
       "3  29.964545        8.0  Regular    5.2   Rear-Wheel Drive       Dodge   \n",
       "5  14.982273        4.0  Regular    1.8  Front-Wheel Drive      Subaru   \n",
       "\n",
       "                 model            trany  \n",
       "0   Spider Veloce 2000     Manual 5-spd  \n",
       "1           Testarossa     Manual 5-spd  \n",
       "2              Charger     Manual 5-spd  \n",
       "3  B150/B250 Wagon 2WD  Automatic 3-spd  \n",
       "5               Loyale  Automatic 3-spd  "
      ]
     },
     "execution_count": 4,
     "metadata": {},
     "output_type": "execute_result"
    }
   ],
   "source": [
    "vehicles.head()"
   ]
  },
  {
   "cell_type": "markdown",
   "metadata": {
    "slideshow": {
     "slide_type": "slide"
    }
   },
   "source": [
    "* barrels08 - annual petroleum consumption in barrels\n",
    "* cylinders - engine cylinders\n",
    "* fuelType\n",
    "* displ - engine displacement in liters\n",
    "* drive - drive axle type \n",
    "* make - manufacturer (division)\n",
    "* model - model name (carline)\n",
    "* trany - transmission"
   ]
  },
  {
   "cell_type": "markdown",
   "metadata": {
    "slideshow": {
     "slide_type": "slide"
    }
   },
   "source": [
    "#### Minimize barrels08\n",
    "\n",
    "#### Find optimal cylinders, displ, drive, make, model, trany"
   ]
  },
  {
   "cell_type": "code",
   "execution_count": 5,
   "metadata": {
    "slideshow": {
     "slide_type": "subslide"
    }
   },
   "outputs": [
    {
     "data": {
      "text/html": [
       "<div>\n",
       "<style scoped>\n",
       "    .dataframe tbody tr th:only-of-type {\n",
       "        vertical-align: middle;\n",
       "    }\n",
       "\n",
       "    .dataframe tbody tr th {\n",
       "        vertical-align: top;\n",
       "    }\n",
       "\n",
       "    .dataframe thead th {\n",
       "        text-align: right;\n",
       "    }\n",
       "</style>\n",
       "<table border=\"1\" class=\"dataframe\">\n",
       "  <thead>\n",
       "    <tr style=\"text-align: right;\">\n",
       "      <th></th>\n",
       "      <th>barrels08</th>\n",
       "      <th>cylinders</th>\n",
       "      <th>displ</th>\n",
       "    </tr>\n",
       "  </thead>\n",
       "  <tbody>\n",
       "    <tr>\n",
       "      <th>count</th>\n",
       "      <td>26310.000000</td>\n",
       "      <td>26310.000000</td>\n",
       "      <td>26310.00000</td>\n",
       "    </tr>\n",
       "    <tr>\n",
       "      <th>mean</th>\n",
       "      <td>17.185404</td>\n",
       "      <td>5.376245</td>\n",
       "      <td>3.12726</td>\n",
       "    </tr>\n",
       "    <tr>\n",
       "      <th>std</th>\n",
       "      <td>4.549273</td>\n",
       "      <td>1.512482</td>\n",
       "      <td>1.27073</td>\n",
       "    </tr>\n",
       "    <tr>\n",
       "      <th>min</th>\n",
       "      <td>5.586610</td>\n",
       "      <td>2.000000</td>\n",
       "      <td>1.00000</td>\n",
       "    </tr>\n",
       "    <tr>\n",
       "      <th>25%</th>\n",
       "      <td>13.733750</td>\n",
       "      <td>4.000000</td>\n",
       "      <td>2.00000</td>\n",
       "    </tr>\n",
       "    <tr>\n",
       "      <th>50%</th>\n",
       "      <td>16.480500</td>\n",
       "      <td>6.000000</td>\n",
       "      <td>2.80000</td>\n",
       "    </tr>\n",
       "    <tr>\n",
       "      <th>75%</th>\n",
       "      <td>19.388824</td>\n",
       "      <td>6.000000</td>\n",
       "      <td>4.00000</td>\n",
       "    </tr>\n",
       "    <tr>\n",
       "      <th>max</th>\n",
       "      <td>41.201250</td>\n",
       "      <td>12.000000</td>\n",
       "      <td>7.40000</td>\n",
       "    </tr>\n",
       "  </tbody>\n",
       "</table>\n",
       "</div>"
      ],
      "text/plain": [
       "          barrels08     cylinders        displ\n",
       "count  26310.000000  26310.000000  26310.00000\n",
       "mean      17.185404      5.376245      3.12726\n",
       "std        4.549273      1.512482      1.27073\n",
       "min        5.586610      2.000000      1.00000\n",
       "25%       13.733750      4.000000      2.00000\n",
       "50%       16.480500      6.000000      2.80000\n",
       "75%       19.388824      6.000000      4.00000\n",
       "max       41.201250     12.000000      7.40000"
      ]
     },
     "execution_count": 5,
     "metadata": {},
     "output_type": "execute_result"
    }
   ],
   "source": [
    "vehicles.describe()"
   ]
  },
  {
   "cell_type": "code",
   "execution_count": 41,
   "metadata": {
    "slideshow": {
     "slide_type": "slide"
    }
   },
   "outputs": [],
   "source": [
    "vehicles['drive'].replace(to_replace=\"Rear-Wheel Drive\", value=1, inplace = True)\n",
    "vehicles['drive'].replace(to_replace=\"Front-Wheel Drive\", value=2, inplace = True)\n",
    "vehicles['drive'].replace(to_replace=\"4-Wheel or All-Wheel Drive\", value=3, inplace = True)\n",
    "vehicles['drive'].replace(to_replace=\"2-Wheel Drive\", value=4, inplace = True)\n",
    "vehicles['drive'].replace(to_replace=\"4-Wheel Drive\", value=5, inplace = True)\n",
    "vehicles['drive'].replace(to_replace=\"All-Wheel Drive\", value=6, inplace = True)\n",
    "vehicles['drive'].replace(to_replace=\"Part-time 4-Wheel Drive\", value=7, inplace = True)"
   ]
  },
  {
   "cell_type": "code",
   "execution_count": 42,
   "metadata": {
    "slideshow": {
     "slide_type": "slide"
    }
   },
   "outputs": [
    {
     "name": "stdout",
     "output_type": "stream",
     "text": [
      "['AM General' 'Acura' 'Alfa Romeo' 'American Motors Corporation'\n",
      " 'Aston Martin' 'Audi' 'Aurora Cars Ltd' 'Autokraft Limited' 'BMW'\n",
      " 'Bertone' 'Bill Dovell Motor Car Company' 'Bitter Gmbh and Co. Kg'\n",
      " 'Buick' 'CCC Engineering' 'CX Automotive' 'Cadillac' 'Chevrolet'\n",
      " 'Chrysler' 'Consulier Industries Inc' 'Dabryan Coach Builders Inc'\n",
      " 'Dacia' 'Daewoo' 'Daihatsu' 'Dodge' 'E. P. Dutton, Inc.' 'Eagle'\n",
      " 'Evans Automobiles' 'Federal Coach' 'Ferrari' 'Fiat' 'Ford' 'GMC'\n",
      " 'General Motors' 'Genesis' 'Geo' 'Grumman Allied Industries' 'Honda'\n",
      " 'Hummer' 'Hyundai' 'Import Foreign Auto Sales Inc'\n",
      " 'Import Trade Services' 'Infiniti' 'Isuzu' 'J.K. Motors'\n",
      " 'JBA Motorcars, Inc.' 'Jaguar' 'Jeep' 'Kia' 'Laforza Automobile Inc'\n",
      " 'Lambda Control Systems' 'Land Rover' 'Lexus' 'Lincoln'\n",
      " 'London Coach Co Inc' 'Lotus' 'Maserati' 'Mazda' 'Mcevoy Motors'\n",
      " 'Mercedes-Benz' 'Mercury' 'Merkur' 'Mitsubishi' 'Mobility Ventures LLC'\n",
      " 'Nissan' 'Oldsmobile' 'Panos' 'Panoz Auto-Development'\n",
      " 'Panther Car Company Limited' 'Peugeot' 'Pininfarina' 'Plymouth'\n",
      " 'Pontiac' 'Porsche' 'Quantum Technologies' 'Qvale' 'Ram' 'Renault'\n",
      " 'Rolls-Royce' 'S and S Coach Company  E.p. Dutton' 'Saab' 'Saleen'\n",
      " 'Saturn' 'Scion' 'Spyker' 'Sterling' 'Subaru'\n",
      " 'Superior Coaches Div E.p. Dutton' 'Suzuki' 'Texas Coach Company'\n",
      " 'Toyota' 'VPG' 'Volga Associated Automobile' 'Volkswagen' 'Volvo' 'Yugo'] ['1-Ton Truck 2WD' '100' '100 Wagon' ... 'xA' 'xB' 'xD'] ['Automatic (AM-S10)' 'Automatic (AM-S6)' 'Automatic (AM-S7)'\n",
      " 'Automatic (AM-S8)' 'Automatic (AM6)' 'Automatic (AM7)'\n",
      " 'Automatic (AV-S1)' 'Automatic (AV-S10)' 'Automatic (AV-S6)'\n",
      " 'Automatic (AV-S7)' 'Automatic (AV-S8)' 'Automatic (L3)' 'Automatic (L4)'\n",
      " 'Automatic (S10)' 'Automatic (S4)' 'Automatic (S5)' 'Automatic (S6)'\n",
      " 'Automatic (S7)' 'Automatic (S8)' 'Automatic (S9)'\n",
      " 'Automatic (variable gear ratios)' 'Automatic 10-spd' 'Automatic 3-spd'\n",
      " 'Automatic 4-spd' 'Automatic 5-spd' 'Automatic 6-spd' 'Automatic 8-spd'\n",
      " 'Automatic 9-spd' 'Manual 3-spd' 'Manual 4-spd' 'Manual 5-spd'\n",
      " 'Manual 6-spd']\n"
     ]
    }
   ],
   "source": [
    "le1 = preprocessing.LabelEncoder()\n",
    "le1.fit(vehicles['make'])\n",
    "vehicles['make'] = le1.transform(vehicles['make'])\n",
    "\n",
    "le2 = preprocessing.LabelEncoder()\n",
    "le2.fit(vehicles['model'])\n",
    "vehicles['model'] = le2.transform(vehicles['model'])\n",
    "\n",
    "le3 = preprocessing.LabelEncoder()\n",
    "le3.fit(vehicles['trany'])\n",
    "vehicles['trany'] = le3.transform(vehicles['trany'])\n",
    "\n",
    "print(le1.classes_, le2.classes_, le3.classes_)"
   ]
  },
  {
   "cell_type": "markdown",
   "metadata": {
    "slideshow": {
     "slide_type": "slide"
    }
   },
   "source": [
    "### Modelling approach"
   ]
  },
  {
   "cell_type": "markdown",
   "metadata": {
    "slideshow": {
     "slide_type": "subslide"
    }
   },
   "source": [
    "#### Regression"
   ]
  },
  {
   "cell_type": "code",
   "execution_count": 15,
   "metadata": {
    "slideshow": {
     "slide_type": "slide"
    }
   },
   "outputs": [
    {
     "name": "stdout",
     "output_type": "stream",
     "text": [
      "                            OLS Regression Results                            \n",
      "==============================================================================\n",
      "Dep. Variable:                      y   R-squared:                       0.704\n",
      "Model:                            OLS   Adj. R-squared:                  0.703\n",
      "Method:                 Least Squares   F-statistic:                     8322.\n",
      "Date:                Sun, 31 Jan 2021   Prob (F-statistic):               0.00\n",
      "Time:                        13:15:46   Log-Likelihood:                -48925.\n",
      "No. Observations:               21048   AIC:                         9.786e+04\n",
      "Df Residuals:                   21041   BIC:                         9.792e+04\n",
      "Df Model:                           6                                         \n",
      "Covariance Type:            nonrobust                                         \n",
      "==============================================================================\n",
      "                 coef    std err          t      P>|t|      [0.025      0.975]\n",
      "------------------------------------------------------------------------------\n",
      "const          4.5027      0.134     33.663      0.000       4.241       4.765\n",
      "x1             0.3435      0.030     11.576      0.000       0.285       0.402\n",
      "x2             2.6191      0.035     73.782      0.000       2.550       2.689\n",
      "x3             0.0184      0.014      1.345      0.179      -0.008       0.045\n",
      "x4             0.0024      0.001      3.427      0.001       0.001       0.004\n",
      "x5          2.131e-05   2.83e-05      0.753      0.451   -3.41e-05    7.67e-05\n",
      "x6             0.1026      0.003     30.410      0.000       0.096       0.109\n",
      "==============================================================================\n",
      "Omnibus:                     2191.377   Durbin-Watson:                   1.998\n",
      "Prob(Omnibus):                  0.000   Jarque-Bera (JB):             8693.524\n",
      "Skew:                           0.470   Prob(JB):                         0.00\n",
      "Kurtosis:                       6.005   Cond. No.                     9.92e+03\n",
      "==============================================================================\n",
      "\n",
      "Warnings:\n",
      "[1] Standard Errors assume that the covariance matrix of the errors is correctly specified.\n",
      "[2] The condition number is large, 9.92e+03. This might indicate that there are\n",
      "strong multicollinearity or other numerical problems.\n",
      "2.491984645634899\n"
     ]
    }
   ],
   "source": [
    "from statsmodels.api import OLS\n",
    "from statsmodels.api import add_constant\n",
    "\n",
    "X = vehicles.drop(columns = ['barrels08', 'fuelType'])\n",
    "X = np.asarray(X, dtype = 'float')\n",
    "y = vehicles['barrels08'].values\n",
    "\n",
    "# Divide the data into train and test\n",
    "from sklearn.model_selection import train_test_split\n",
    "X_train, X_test, y_train, y_test = train_test_split(X, y, test_size = 0.2)\n",
    "\n",
    "# First model is Regression\n",
    "X_train_c = add_constant(X_train)\n",
    "ols = OLS(y_train, X_train_c)\n",
    "model1 = ols.fit()\n",
    "print(model1.summary())\n",
    "\n",
    "X_test_c = add_constant(X_test)\n",
    "y_pred = model1.predict(X_test_c)"
   ]
  },
  {
   "cell_type": "code",
   "execution_count": 16,
   "metadata": {
    "slideshow": {
     "slide_type": "slide"
    }
   },
   "outputs": [
    {
     "data": {
      "image/png": "[encoded data removed]",
      "text/plain": [
       "<Figure size 432x288 with 1 Axes>"
      ]
     },
     "metadata": {
      "needs_background": "light"
     },
     "output_type": "display_data"
    }
   ],
   "source": [
    "# scatter-plot data\n",
    "plt.ylabel('Annual petroleum consumption')\n",
    "plt.xlabel('Manufacturer\\'s number')\n",
    "ax = plt.plot(X_test[:, 3], y_test, 'o', color = 'black')"
   ]
  },
  {
   "cell_type": "code",
   "execution_count": 71,
   "metadata": {
    "slideshow": {
     "slide_type": "slide"
    }
   },
   "outputs": [
    {
     "name": "stdout",
     "output_type": "stream",
     "text": [
      "['Honda'] ['Civic HB VX']\n"
     ]
    }
   ],
   "source": [
    "print(le1.inverse_transform([36]), le2.inverse_transform([548]))"
   ]
  },
  {
   "cell_type": "code",
   "execution_count": 18,
   "metadata": {
    "slideshow": {
     "slide_type": "slide"
    }
   },
   "outputs": [
    {
     "data": {
      "image/png": "[encoded data removed]",
      "text/plain": [
       "<Figure size 432x288 with 1 Axes>"
      ]
     },
     "metadata": {
      "needs_background": "light"
     },
     "output_type": "display_data"
    }
   ],
   "source": [
    "stdres = pd.DataFrame(model1.resid_pearson)\n",
    "plt.plot(stdres.iloc[0:300], 'o', ls = 'None')\n",
    "l = plt.axhline(y=0, color = 'r')"
   ]
  },
  {
   "cell_type": "code",
   "execution_count": 19,
   "metadata": {
    "slideshow": {
     "slide_type": "slide"
    }
   },
   "outputs": [
    {
     "data": {
      "image/png": "[encoded data removed]",
      "text/plain": [
       "<Figure size 576x432 with 4 Axes>"
      ]
     },
     "metadata": {
      "needs_background": "light"
     },
     "output_type": "display_data"
    }
   ],
   "source": [
    "fig = plt.figure(figsize=(8, 6))\n",
    "model_pandas = smf.ols('barrels08 ~ cylinders + displ + drive + make + model', data=vehicles).fit()\n",
    "sm.graphics.plot_regress_exog(model_pandas, 'displ', fig=fig)\n",
    "plt.show()"
   ]
  },
  {
   "cell_type": "code",
   "execution_count": 20,
   "metadata": {
    "slideshow": {
     "slide_type": "slide"
    }
   },
   "outputs": [
    {
     "data": {
      "image/png": "[encoded data removed]",
      "text/plain": [
       "<Figure size 576x432 with 4 Axes>"
      ]
     },
     "metadata": {
      "needs_background": "light"
     },
     "output_type": "display_data"
    }
   ],
   "source": [
    "fig = plt.figure(figsize=(8, 6))\n",
    "sm.graphics.plot_regress_exog(model_pandas, 'make', fig=fig)\n",
    "plt.show()"
   ]
  },
  {
   "cell_type": "code",
   "execution_count": 21,
   "metadata": {
    "slideshow": {
     "slide_type": "slide"
    }
   },
   "outputs": [
    {
     "data": {
      "text/plain": [
       "Intercept    7.320217\n",
       "cylinders    0.316814\n",
       "displ        2.627662\n",
       "drive       -0.074601\n",
       "make         0.001641\n",
       "model        0.000034\n",
       "dtype: float64"
      ]
     },
     "execution_count": 21,
     "metadata": {},
     "output_type": "execute_result"
    }
   ],
   "source": [
    "model_pandas.params"
   ]
  },
  {
   "cell_type": "code",
   "execution_count": 89,
   "metadata": {
    "slideshow": {
     "slide_type": "slide"
    }
   },
   "outputs": [
    {
     "data": {
      "text/html": [
       "<div>\n",
       "<style scoped>\n",
       "    .dataframe tbody tr th:only-of-type {\n",
       "        vertical-align: middle;\n",
       "    }\n",
       "\n",
       "    .dataframe tbody tr th {\n",
       "        vertical-align: top;\n",
       "    }\n",
       "\n",
       "    .dataframe thead th {\n",
       "        text-align: right;\n",
       "    }\n",
       "</style>\n",
       "<table border=\"1\" class=\"dataframe\">\n",
       "  <thead>\n",
       "    <tr style=\"text-align: right;\">\n",
       "      <th></th>\n",
       "      <th>mean</th>\n",
       "      <th>mean_se</th>\n",
       "      <th>mean_ci_lower</th>\n",
       "      <th>mean_ci_upper</th>\n",
       "      <th>obs_ci_lower</th>\n",
       "      <th>obs_ci_upper</th>\n",
       "    </tr>\n",
       "  </thead>\n",
       "  <tbody>\n",
       "    <tr>\n",
       "      <th>0</th>\n",
       "      <td>10.919823</td>\n",
       "      <td>0.057725</td>\n",
       "      <td>10.806679</td>\n",
       "      <td>11.032967</td>\n",
       "      <td>5.951788</td>\n",
       "      <td>15.887858</td>\n",
       "    </tr>\n",
       "  </tbody>\n",
       "</table>\n",
       "</div>"
      ],
      "text/plain": [
       "        mean   mean_se  mean_ci_lower  mean_ci_upper  obs_ci_lower  \\\n",
       "0  10.919823  0.057725      10.806679      11.032967      5.951788   \n",
       "\n",
       "   obs_ci_upper  \n",
       "0     15.887858  "
      ]
     },
     "execution_count": 89,
     "metadata": {},
     "output_type": "execute_result"
    }
   ],
   "source": [
    "new_data = pd.DataFrame({'cylinders': [4], 'displ': [1], 'drive': [5], 'make': [36], 'model': [548]})\n",
    "f_new = model_pandas.get_prediction(exog=new_data) \n",
    "f_new.summary_frame(alpha=0.05)"
   ]
  },
  {
   "cell_type": "code",
   "execution_count": 96,
   "metadata": {
    "slideshow": {
     "slide_type": "subslide"
    }
   },
   "outputs": [
    {
     "data": {
      "text/html": [
       "<div>\n",
       "<style scoped>\n",
       "    .dataframe tbody tr th:only-of-type {\n",
       "        vertical-align: middle;\n",
       "    }\n",
       "\n",
       "    .dataframe tbody tr th {\n",
       "        vertical-align: top;\n",
       "    }\n",
       "\n",
       "    .dataframe thead th {\n",
       "        text-align: right;\n",
       "    }\n",
       "</style>\n",
       "<table border=\"1\" class=\"dataframe\">\n",
       "  <thead>\n",
       "    <tr style=\"text-align: right;\">\n",
       "      <th></th>\n",
       "      <th>mean</th>\n",
       "      <th>mean_se</th>\n",
       "      <th>mean_ci_lower</th>\n",
       "      <th>mean_ci_upper</th>\n",
       "      <th>obs_ci_lower</th>\n",
       "      <th>obs_ci_upper</th>\n",
       "    </tr>\n",
       "  </thead>\n",
       "  <tbody>\n",
       "    <tr>\n",
       "      <th>0</th>\n",
       "      <td>10.286195</td>\n",
       "      <td>0.057459</td>\n",
       "      <td>10.173572</td>\n",
       "      <td>10.398818</td>\n",
       "      <td>5.318172</td>\n",
       "      <td>15.254218</td>\n",
       "    </tr>\n",
       "  </tbody>\n",
       "</table>\n",
       "</div>"
      ],
      "text/plain": [
       "        mean   mean_se  mean_ci_lower  mean_ci_upper  obs_ci_lower  \\\n",
       "0  10.286195  0.057459      10.173572      10.398818      5.318172   \n",
       "\n",
       "   obs_ci_upper  \n",
       "0     15.254218  "
      ]
     },
     "execution_count": 96,
     "metadata": {},
     "output_type": "execute_result"
    }
   ],
   "source": [
    "new_data = pd.DataFrame({'cylinders': [2], 'displ': [1], 'drive': [5], 'make': [36], 'model': [548]})\n",
    "f_new = model_pandas.get_prediction(exog=new_data) \n",
    "f_new.summary_frame(alpha=0.05)"
   ]
  },
  {
   "cell_type": "markdown",
   "metadata": {
    "slideshow": {
     "slide_type": "slide"
    }
   },
   "source": [
    "##### Minimal annual petroleum consumption: 10.3 barrels \n",
    "     \n",
    "##### Optimal shape and wheels: like Honda Civic HB VX. Note: when you optimize the size of wheels, consider their service life.\n",
    "\n",
    "##### Some optimal constuction features: 2 cylinders, engine displacement in liters: 1, 4-Wheel drive type"
   ]
  },
  {
   "cell_type": "markdown",
   "metadata": {
    "slideshow": {
     "slide_type": "slide"
    }
   },
   "source": [
    "### Performance analysis"
   ]
  },
  {
   "cell_type": "code",
   "execution_count": 92,
   "metadata": {
    "slideshow": {
     "slide_type": "subslide"
    }
   },
   "outputs": [
    {
     "name": "stdout",
     "output_type": "stream",
     "text": [
      "2.491984645634899\n"
     ]
    }
   ],
   "source": [
    "from sklearn.metrics import mean_squared_error\n",
    "rmse1 = mean_squared_error(y_pred, y_test, squared = False)\n",
    "print(rmse1)"
   ]
  },
  {
   "cell_type": "markdown",
   "metadata": {
    "slideshow": {
     "slide_type": "slide"
    }
   },
   "source": [
    "### Potential improvements"
   ]
  },
  {
   "cell_type": "markdown",
   "metadata": {
    "slideshow": {
     "slide_type": "subslide"
    }
   },
   "source": [
    "###### 1. Datasets for buses\n",
    "###### 2. Other models (random forest, neural networks, ...)\n",
    "###### 3. Data exploration\n",
    "###### 4. Process optimization approach\n"
   ]
  },
  {
   "cell_type": "markdown",
   "metadata": {
    "slideshow": {
     "slide_type": "slide"
    }
   },
   "source": [
    "## Thank you for your attention!\n",
    "\n",
    "    \n",
    "\n",
    "![Alt](cube.png \"\")"
   ]
  }
 ],
 "metadata": {
  "celltoolbar": "Slideshow",
  "kernelspec": {
   "display_name": "Python 3",
   "language": "python",
   "name": "python3"
  },
  "language_info": {
   "codemirror_mode": {
    "name": "ipython",
    "version": 3
   },
   "file_extension": ".py",
   "mimetype": "text/x-python",
   "name": "python",
   "nbconvert_exporter": "python",
   "pygments_lexer": "ipython3",
   "version": "3.8.5"
  }
 },
 "nbformat": 4,
 "nbformat_minor": 2
}
